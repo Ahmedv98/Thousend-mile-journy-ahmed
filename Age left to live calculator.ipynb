{
 "cells": [
  {
   "cell_type": "code",
   "execution_count": 6,
   "id": "24c09a29",
   "metadata": {},
   "outputs": [
    {
     "name": "stdout",
     "output_type": "stream",
     "text": [
      "Please enter your age :44\n",
      " You have 46 years or 552 months or 2392 weeks or 16790 days to live.... So use it wisely ;)\n"
     ]
    }
   ],
   "source": [
    "User_age_input = int(input(\"Please enter your age :\"))\n",
    "\n",
    "age_left=90\n",
    "\n",
    "years_left=age_left-User_age_input;\n",
    "days_left=years_left*365;\n",
    "week_left=years_left*52;\n",
    "months_left=years_left*12;\n",
    "\n",
    "print(f\" You have {years_left} years or {months_left} months or {week_left} weeks or {days_left} days to live.... So use it wisely ;)\")"
   ]
  }
 ],
 "metadata": {
  "kernelspec": {
   "display_name": "Python 3 (ipykernel)",
   "language": "python",
   "name": "python3"
  },
  "language_info": {
   "codemirror_mode": {
    "name": "ipython",
    "version": 3
   },
   "file_extension": ".py",
   "mimetype": "text/x-python",
   "name": "python",
   "nbconvert_exporter": "python",
   "pygments_lexer": "ipython3",
   "version": "3.9.7"
  }
 },
 "nbformat": 4,
 "nbformat_minor": 5
}
